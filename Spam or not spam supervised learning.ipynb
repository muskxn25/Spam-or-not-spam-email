{
 "cells": [
  {
   "cell_type": "code",
   "execution_count": 17,
   "id": "301cc921",
   "metadata": {},
   "outputs": [
    {
     "name": "stdout",
     "output_type": "stream",
     "text": [
      "Loaded 8398 emails.\n",
      "label\n",
      "ham     5604\n",
      "spam    2794\n",
      "Name: count, dtype: int64\n"
     ]
    }
   ],
   "source": [
    "import os\n",
    "import pandas as pd\n",
    "from sklearn.model_selection import train_test_split\n",
    "from sklearn.feature_extraction.text import TfidfVectorizer\n",
    "from sklearn.naive_bayes import MultinomialNB\n",
    "from sklearn.metrics import accuracy_score, precision_score, recall_score, f1_score\n",
    "\n",
    "def load_emails_from_directory(directory):\n",
    "    emails = []\n",
    "    if not os.path.exists(directory):\n",
    "        print(f\"Directory does not exist: {directory}\")\n",
    "        return emails\n",
    "    try:\n",
    "        for root, _, files in os.walk(directory):\n",
    "            for filename in files:\n",
    "                filepath = os.path.join(root, filename)\n",
    "                with open(filepath, 'r', encoding='latin-1') as file:\n",
    "                    emails.append(file.read())\n",
    "    except PermissionError as e:\n",
    "        print(f\"Permission error accessing directory {directory}: {e}\")\n",
    "    except Exception as e:\n",
    "        print(f\"An error occurred: {e}\")\n",
    "    return emails\n",
    "\n",
    "def load_data(spam_dir, easy_ham_dir, hard_ham_dir):\n",
    "    # Load spam emails\n",
    "    spam_emails = load_emails_from_directory(spam_dir)\n",
    "    spam_labels = ['spam'] * len(spam_emails)\n",
    "    \n",
    "    # Load easy ham emails\n",
    "    easy_ham_emails = load_emails_from_directory(easy_ham_dir)\n",
    "    easy_ham_labels = ['ham'] * len(easy_ham_emails)\n",
    "    \n",
    "    # Load hard ham emails\n",
    "    hard_ham_emails = load_emails_from_directory(hard_ham_dir)\n",
    "    hard_ham_labels = ['ham'] * len(hard_ham_emails)\n",
    "    \n",
    "    # Combine all emails and labels\n",
    "    all_emails = spam_emails + easy_ham_emails + hard_ham_emails\n",
    "    all_labels = spam_labels + easy_ham_labels + hard_ham_labels\n",
    "    \n",
    "    return pd.DataFrame({'text': all_emails, 'label': all_labels})\n",
    "\n",
    "# Define directories\n",
    "spam_dir = 'C:/Users/Dell/Documents/ML/archive/spam_2'\n",
    "easy_ham_dir = 'C:/Users/Dell/Documents/ML/archive/easy_ham'\n",
    "hard_ham_dir = 'C:/Users/Dell/Documents/ML/archive/hard_ham'\n",
    "\n",
    "# Load data\n",
    "emails = load_data(spam_dir, easy_ham_dir, hard_ham_dir)\n",
    "\n",
    "# Display the number of emails loaded\n",
    "print(f\"Loaded {len(emails)} emails.\")\n",
    "print(emails['label'].value_counts())\n",
    "\n",
    "# Split dataset into training and testing sets\n",
    "X_train, X_test, y_train, y_test = train_test_split(emails['text'], emails['label'], test_size=0.2, random_state=42)\n"
   ]
  },
  {
   "cell_type": "code",
   "execution_count": 18,
   "id": "ea333312",
   "metadata": {},
   "outputs": [],
   "source": [
    "# Vectorize text data\n",
    "vectorizer = TfidfVectorizer(stop_words='english')\n",
    "X_train_vect = vectorizer.fit_transform(X_train)\n",
    "X_test_vect = vectorizer.transform(X_test)\n"
   ]
  },
  {
   "cell_type": "code",
   "execution_count": 19,
   "id": "b5acff7b",
   "metadata": {},
   "outputs": [
    {
     "name": "stdout",
     "output_type": "stream",
     "text": [
      "Accuracy: 0.9404761904761905\n",
      "Precision: 0.9829424307036247\n",
      "Recall: 0.833634719710669\n",
      "F1 Score: 0.9021526418786693\n"
     ]
    }
   ],
   "source": [
    "# Train a Naive Bayes classifier\n",
    "model = MultinomialNB()\n",
    "model.fit(X_train_vect, y_train)\n",
    "\n",
    "# Make predictions\n",
    "y_pred = model.predict(X_test_vect)\n",
    "\n",
    "# Evaluate model performance\n",
    "accuracy = accuracy_score(y_test, y_pred)\n",
    "precision = precision_score(y_test, y_pred, pos_label='spam')\n",
    "recall = recall_score(y_test, y_pred, pos_label='spam')\n",
    "f1 = f1_score(y_test, y_pred, pos_label='spam')\n",
    "\n",
    "print(f'Accuracy: {accuracy}')\n",
    "print(f'Precision: {precision}')\n",
    "print(f'Recall: {recall}')\n",
    "print(f'F1 Score: {f1}')\n"
   ]
  },
  {
   "cell_type": "code",
   "execution_count": 20,
   "id": "76078d99",
   "metadata": {},
   "outputs": [
    {
     "name": "stdout",
     "output_type": "stream",
     "text": [
      "Text: From chol2001948@bellsouth.net  Wed Jun 27 08:46:51 2001\n",
      "Ret...\n",
      "Actual Label: spam\n",
      "Predicted Label: ham\n",
      "\n",
      "Text: \u0000\u0005\u0016\u0007\u0000\u0002\u0000\u0000Mac OS X        \u0000\u0002\u0000\u0000\u0000\t\u0000\u0000\u00002\u0000\u0000\u0000°\u0000\u0000\u0000\u0002\u0000\u0000\u0000â\u0000\u0000\u0000\u0000\u0000\u0000\u0000\u0000\u0000\u0000\u0000\u0000\u0000\u0000...\n",
      "Actual Label: ham\n",
      "Predicted Label: ham\n",
      "\n",
      "Text: \u0000\u0005\u0016\u0007\u0000\u0002\u0000\u0000Mac OS X        \u0000\u0002\u0000\u0000\u0000\t\u0000\u0000\u00002\u0000\u0000\u0000°\u0000\u0000\u0000\u0002\u0000\u0000\u0000â\u0000\u0000\u0000\u0000\u0000\u0000\u0000\u0000\u0000\u0000\u0000\u0000\u0000\u0000...\n",
      "Actual Label: spam\n",
      "Predicted Label: spam\n",
      "\n",
      "Text: From fork-admin@xent.com  Fri Sep  6 11:41:33 2002\n",
      "Return-Pa...\n",
      "Actual Label: ham\n",
      "Predicted Label: ham\n",
      "\n",
      "Text: From rssfeeds@jmason.org  Tue Sep 24 10:48:03 2002\n",
      "Return-Pa...\n",
      "Actual Label: ham\n",
      "Predicted Label: ham\n",
      "\n"
     ]
    }
   ],
   "source": [
    "# Check predictions on some sample data from the test set\n",
    "sample_texts = X_test[:5]\n",
    "sample_labels = y_test[:5]\n",
    "sample_predictions = model.predict(vectorizer.transform(sample_texts))\n",
    "\n",
    "for text, label, prediction in zip(sample_texts, sample_labels, sample_predictions):\n",
    "    print(f\"Text: {text[:60]}...\")  # Print the first 60 characters for brevity\n",
    "    print(f\"Actual Label: {label}\")\n",
    "    print(f\"Predicted Label: {prediction}\")\n",
    "    print()\n"
   ]
  },
  {
   "cell_type": "code",
   "execution_count": 21,
   "id": "d1c1c2b5",
   "metadata": {},
   "outputs": [
    {
     "name": "stdout",
     "output_type": "stream",
     "text": [
      "The new email is classified as: ham\n"
     ]
    }
   ],
   "source": [
    "# Function to predict if a new email is spam or not\n",
    "def predict_email(email_text):\n",
    "    email_vect = vectorizer.transform([email_text])  # Vectorize the email text\n",
    "    prediction = model.predict(email_vect)  # Predict using the trained model\n",
    "    return prediction[0]\n",
    "\n",
    "# Test the function with a new email\n",
    "new_email = \"\"\"\n",
    "    Your email has won you $1,000,000! Click here to claim your prize. \n",
    "    This is not a scam. Please provide your bank details to transfer the money.\n",
    "\"\"\"\n",
    "\n",
    "prediction = predict_email(new_email)\n",
    "print(f\"The new email is classified as: {prediction}\")\n"
   ]
  },
  {
   "cell_type": "code",
   "execution_count": 22,
   "id": "6a5b55cd",
   "metadata": {},
   "outputs": [],
   "source": [
    "import os \n",
    "import pandas as pd\n",
    "from sklearn.model_selection import train_test_split\n",
    "\n",
    "\n",
    "\n",
    "def load_email_dir(directory):\n",
    "    emails = []\n",
    "    if not os.path.exists(directory):\n",
    "        print(f\"The directory doesnt exist\", {directory})\n",
    "        return emails\n",
    "    try:\n",
    "        for root, _, files in os.walk(directory):\n",
    "            for filename in files:\n",
    "                filepath = os.path.join(root, filename)\n",
    "                with open(filepath, 'r', encoding='latin-1') as file:\n",
    "                    emails.append(file.read())\n",
    "    except PermissionError as e:\n",
    "        print(f\"Permission error accessing directory {directory}: {e}\")\n",
    "    except Exception as e:\n",
    "        print(f\"An error occurred: {e}\")\n",
    "    return emails\n",
    "\n",
    "        "
   ]
  },
  {
   "cell_type": "code",
   "execution_count": null,
   "id": "d4a757f5",
   "metadata": {},
   "outputs": [],
   "source": []
  }
 ],
 "metadata": {
  "kernelspec": {
   "display_name": "Python 3 (ipykernel)",
   "language": "python",
   "name": "python3"
  },
  "language_info": {
   "codemirror_mode": {
    "name": "ipython",
    "version": 3
   },
   "file_extension": ".py",
   "mimetype": "text/x-python",
   "name": "python",
   "nbconvert_exporter": "python",
   "pygments_lexer": "ipython3",
   "version": "3.11.5"
  }
 },
 "nbformat": 4,
 "nbformat_minor": 5
}
